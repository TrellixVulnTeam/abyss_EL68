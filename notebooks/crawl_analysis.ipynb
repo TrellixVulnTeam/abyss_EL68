{
 "cells": [
  {
   "cell_type": "markdown",
   "metadata": {},
   "source": [
    "## Exploratory Analysis of Deep Blue's Xtract Crawl"
   ]
  },
  {
   "cell_type": "code",
   "execution_count": 2,
   "metadata": {},
   "outputs": [],
   "source": [
    "import matplotlib.pyplot as plt\n",
    "import numpy as np\n",
    "import pandas as pd"
   ]
  },
  {
   "cell_type": "code",
   "execution_count": 3,
   "metadata": {},
   "outputs": [],
   "source": [
    "# Load crawl CSV\n",
    "deep_blue_crawl_df = pd.read_csv(\"data/deep_blue_xtract_crawl.csv\")"
   ]
  },
  {
   "cell_type": "code",
   "execution_count": 4,
   "metadata": {},
   "outputs": [],
   "source": [
    "# Get compressed extensions\n",
    "compressed_extensions = set(deep_blue_crawl_df[deep_blue_crawl_df.label == \"compressed\"].extension)"
   ]
  },
  {
   "cell_type": "code",
   "execution_count": 5,
   "metadata": {},
   "outputs": [
    {
     "name": "stdout",
     "output_type": "stream",
     "text": [
      "tar: \n",
      "         size_bytes\n",
      "count  1.600000e+01\n",
      "mean   4.482301e+09\n",
      "std    8.152891e+09\n",
      "min    2.910800e+04\n",
      "25%    4.274491e+08\n",
      "50%    1.001690e+09\n",
      "75%    1.453554e+09\n",
      "max    2.102018e+10\n",
      "gz: \n",
      "         size_bytes\n",
      "count  3.300000e+01\n",
      "mean   2.128045e+10\n",
      "std    3.965044e+10\n",
      "min    1.806800e+04\n",
      "25%    3.972696e+07\n",
      "50%    9.708754e+08\n",
      "75%    1.050042e+10\n",
      "max    1.167499e+11\n",
      "zip: \n",
      "         size_bytes\n",
      "count  8.240000e+02\n",
      "mean   3.516081e+09\n",
      "std    2.539581e+10\n",
      "min    4.451000e+03\n",
      "25%    5.159525e+06\n",
      "50%    2.541659e+07\n",
      "75%    1.542360e+08\n",
      "max    4.280410e+11\n"
     ]
    }
   ],
   "source": [
    "# Get data on file size of each extension\n",
    "for extension in compressed_extensions:\n",
    "    print(f\"{extension}: \")\n",
    "    print(deep_blue_crawl_df[deep_blue_crawl_df.extension == extension].describe())"
   ]
  },
  {
   "cell_type": "code",
   "execution_count": 6,
   "metadata": {},
   "outputs": [
    {
     "data": {
      "text/plain": [
       "<matplotlib.legend.Legend at 0x7ffee3928c90>"
      ]
     },
     "execution_count": 6,
     "metadata": {},
     "output_type": "execute_result"
    },
    {
     "data": {
      "image/png": "[encoded data removed]",
      "text/plain": [
       "<Figure size 432x288 with 1 Axes>"
      ]
     },
     "metadata": {
      "needs_background": "light"
     },
     "output_type": "display_data"
    }
   ],
   "source": [
    "# Split the file size data by extension\n",
    "gz_data = deep_blue_crawl_df[deep_blue_crawl_df.extension == \"gz\"].size_bytes.values\n",
    "tar_data = deep_blue_crawl_df[deep_blue_crawl_df.extension == \"tar\"].size_bytes.values\n",
    "zip_data = deep_blue_crawl_df[deep_blue_crawl_df.extension == \"zip\"].size_bytes.values\n",
    "\n",
    "# Create bins in logspace\n",
    "bins = np.logspace(0,np.log10(max(deep_blue_crawl_df[deep_blue_crawl_df.label == \"compressed\"].size_bytes.values)), 10)\n",
    "\n",
    "# Plot the data\n",
    "plt.hist([gz_data, tar_data, zip_data], label=[\"gz\", \"tar\", \"zip\"], bins=bins)\n",
    "plt.yscale(\"log\")\n",
    "plt.xscale(\"log\")\n",
    "plt.xlabel(\"File size (bytes)\")\n",
    "plt.ylabel(\"Number of files\")\n",
    "plt.legend(loc=\"upper right\")"
   ]
  }
 ],
 "metadata": {
  "kernelspec": {
   "display_name": "Python 3",
   "language": "python",
   "name": "python3"
  },
  "language_info": {
   "codemirror_mode": {
    "name": "ipython",
    "version": 3
   },
   "file_extension": ".py",
   "mimetype": "text/x-python",
   "name": "python",
   "nbconvert_exporter": "python",
   "pygments_lexer": "ipython3",
   "version": "3.7.9"
  }
 },
 "nbformat": 4,
 "nbformat_minor": 1
}
