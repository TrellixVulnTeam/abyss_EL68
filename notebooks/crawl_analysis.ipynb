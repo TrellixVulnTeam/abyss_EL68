{
 "cells": [
  {
   "cell_type": "markdown",
   "metadata": {},
   "source": [
    "## Exploratory Analysis of Deep Blue's Crawl"
   ]
  },
  {
   "cell_type": "code",
   "execution_count": 3,
   "metadata": {},
   "outputs": [],
   "source": [
    "import matplotlib.pyplot as plt\n",
    "import numpy as np\n",
    "import pandas as pd"
   ]
  },
  {
   "cell_type": "code",
   "execution_count": 4,
   "metadata": {},
   "outputs": [],
   "source": [
    "# Load crawl CSV\n",
    "deep_blue_crawl_df = pd.read_csv(\"../data/deep_blue_crawl.csv\")"
   ]
  },
  {
   "cell_type": "code",
   "execution_count": 5,
   "metadata": {},
   "outputs": [],
   "source": [
    "# Get compressed extensions\n",
    "compressed_extensions = set(deep_blue_crawl_df[deep_blue_crawl_df.label == \"compressed\"].extension)"
   ]
  },
  {
   "cell_type": "code",
   "execution_count": 14,
   "metadata": {},
   "outputs": [
    {
     "name": "stdout",
     "output_type": "stream",
     "text": [
      "zip: \n",
      "2897250371840\n",
      "gz: \n",
      "702254764525\n",
      "tar: \n",
      "71716822812\n",
      "3671221959177\n",
      "873\n"
     ]
    }
   ],
   "source": [
    "# Get data on file size of each extension\n",
    "size_sum = 0\n",
    "total = 0\n",
    "for extension in compressed_extensions:\n",
    "    print(f\"{extension}: \")\n",
    "    print(sum(deep_blue_crawl_df[deep_blue_crawl_df.extension == extension].size_bytes))\n",
    "    size_sum += sum(deep_blue_crawl_df[deep_blue_crawl_df.extension == extension].size_bytes)\n",
    "    total += len(deep_blue_crawl_df[deep_blue_crawl_df.extension == extension])\n",
    "print(size_sum)\n",
    "print(total)"
   ]
  },
  {
   "cell_type": "code",
   "execution_count": 7,
   "metadata": {},
   "outputs": [
    {
     "data": {
      "text/plain": [
       "<matplotlib.legend.Legend at 0x7f931caab450>"
      ]
     },
     "execution_count": 7,
     "metadata": {},
     "output_type": "execute_result"
    },
    {
     "data": {
      "image/png": "[encoded data removed]",
      "text/plain": [
       "<Figure size 432x288 with 1 Axes>"
      ]
     },
     "metadata": {
      "needs_background": "light"
     },
     "output_type": "display_data"
    }
   ],
   "source": [
    "# Split the file size data by extension\n",
    "gz_data = deep_blue_crawl_df[deep_blue_crawl_df.extension == \"gz\"].size_bytes.values\n",
    "tar_data = deep_blue_crawl_df[deep_blue_crawl_df.extension == \"tar\"].size_bytes.values\n",
    "zip_data = deep_blue_crawl_df[deep_blue_crawl_df.extension == \"zip\"].size_bytes.values\n",
    "\n",
    "# Create bins in logspace\n",
    "bins = np.logspace(0,np.log10(max(deep_blue_crawl_df[deep_blue_crawl_df.label == \"compressed\"].size_bytes.values)), 10)\n",
    "\n",
    "# Plot the data\n",
    "plt.hist([gz_data, tar_data, zip_data], label=[\"gz\", \"tar\", \"zip\"], bins=bins)\n",
    "plt.yscale(\"log\")\n",
    "plt.xscale(\"log\")\n",
    "plt.xlabel(\"File size (bytes)\")\n",
    "plt.ylabel(\"Number of files\")\n",
    "plt.legend(loc=\"upper right\")"
   ]
  },
  {
   "cell_type": "markdown",
   "metadata": {},
   "source": [
    "## Exploratory Analysis of MDF's Crawl"
   ]
  },
  {
   "cell_type": "code",
   "execution_count": 16,
   "metadata": {},
   "outputs": [],
   "source": [
    "mdf_crawl_df = pd.read_csv(\"/Users/ryan/Documents/CS/abyss/data/mdf_crawl.csv\")"
   ]
  },
  {
   "cell_type": "code",
   "execution_count": 17,
   "metadata": {},
   "outputs": [
    {
     "data": {
      "text/plain": [
       "1475"
      ]
     },
     "execution_count": 17,
     "metadata": {},
     "output_type": "execute_result"
    }
   ],
   "source": [
    "mdf_crawl_df.value_counts(subset=[\"extension\"], sort=True)[\"h5\"]"
   ]
  },
  {
   "cell_type": "code",
   "execution_count": 18,
   "metadata": {},
   "outputs": [],
   "source": [
    "# Get compressed extensions\n",
    "compressed_extensions = set(mdf_crawl_df[mdf_crawl_df.label == \"compressed\"].extension)"
   ]
  },
  {
   "cell_type": "code",
   "execution_count": 19,
   "metadata": {
    "scrolled": false
   },
   "outputs": [
    {
     "name": "stdout",
     "output_type": "stream",
     "text": [
      "zip: \n",
      "147643464\n",
      "gz: \n",
      "11315558276\n",
      "tar: \n",
      "13431794786\n",
      "24894996526\n",
      "1622\n"
     ]
    }
   ],
   "source": [
    "# Get data on file size of each extension\n",
    "size_sum = 0\n",
    "total = 0\n",
    "for extension in compressed_extensions:\n",
    "    print(f\"{extension}: \")\n",
    "    print(sum(mdf_crawl_df[mdf_crawl_df.extension == extension].size_bytes))\n",
    "    size_sum += sum(mdf_crawl_df[mdf_crawl_df.extension == extension].size_bytes)\n",
    "    total += len(mdf_crawl_df[mdf_crawl_df.extension == extension])\n",
    "print(size_sum)\n",
    "print(total)"
   ]
  },
  {
   "cell_type": "code",
   "execution_count": 9,
   "metadata": {},
   "outputs": [
    {
     "data": {
      "text/plain": [
       "<matplotlib.legend.Legend at 0x7fc8d641f410>"
      ]
     },
     "execution_count": 9,
     "metadata": {},
     "output_type": "execute_result"
    },
    {
     "data": {
      "image/png": "[encoded data removed]",
      "text/plain": [
       "<Figure size 432x288 with 1 Axes>"
      ]
     },
     "metadata": {
      "needs_background": "light"
     },
     "output_type": "display_data"
    }
   ],
   "source": [
    "# Split the file size data by extension\n",
    "gz_data = mdf_crawl_df[mdf_crawl_df.extension == \"gz\"].size_bytes.values\n",
    "tar_data = mdf_crawl_df[mdf_crawl_df.extension == \"tar\"].size_bytes.values\n",
    "zip_data = mdf_crawl_df[mdf_crawl_df.extension == \"zip\"].size_bytes.values\n",
    "\n",
    "# Create bins in logspace\n",
    "bins = np.logspace(0,np.log10(max(mdf_crawl_df[mdf_crawl_df.label == \"compressed\"].size_bytes.values)), 50)\n",
    "\n",
    "# Plot the data\n",
    "plt.hist([gz_data, tar_data, zip_data], label=[\"gz\", \"tar\", \"zip\"], bins=bins)\n",
    "plt.yscale(\"log\")\n",
    "plt.xscale(\"log\")\n",
    "plt.xlabel(\"File size (bytes)\")\n",
    "plt.ylabel(\"Number of files\")\n",
    "plt.legend(loc=\"upper right\")"
   ]
  },
  {
   "cell_type": "markdown",
   "metadata": {},
   "source": [
    "## Exploratory Analysis of CDIAC's Crawl"
   ]
  },
  {
   "cell_type": "code",
   "execution_count": 21,
   "metadata": {},
   "outputs": [],
   "source": [
    "cdiac_crawl_df = pd.read_csv(\"/Users/ryan/Documents/CS/abyss/data/cdiac_crawl.csv\")"
   ]
  },
  {
   "cell_type": "code",
   "execution_count": 22,
   "metadata": {},
   "outputs": [],
   "source": [
    "# Get compressed extensions\n",
    "compressed_extensions = set(cdiac_crawl_df[cdiac_crawl_df.label == \"compressed\"].extension)"
   ]
  },
  {
   "cell_type": "code",
   "execution_count": 23,
   "metadata": {},
   "outputs": [
    {
     "name": "stdout",
     "output_type": "stream",
     "text": [
      "gz: \n",
      "15555483048\n",
      "tar: \n",
      "18034766848\n",
      "zip: \n",
      "27499396815\n",
      "61089646711\n",
      "1806\n"
     ]
    }
   ],
   "source": [
    "# Get data on file size of each extension\n",
    "size_sum = 0\n",
    "total = 0\n",
    "for extension in compressed_extensions:\n",
    "    print(f\"{extension}: \")\n",
    "    print(sum(cdiac_crawl_df[cdiac_crawl_df.extension == extension].size_bytes))\n",
    "    size_sum += sum(cdiac_crawl_df[cdiac_crawl_df.extension == extension].size_bytes)\n",
    "    total += len(cdiac_crawl_df[cdiac_crawl_df.extension == extension])\n",
    "print(size_sum)\n",
    "print(total)"
   ]
  },
  {
   "cell_type": "code",
   "execution_count": 13,
   "metadata": {},
   "outputs": [
    {
     "data": {
      "text/plain": [
       "<matplotlib.legend.Legend at 0x7fc8e511e350>"
      ]
     },
     "execution_count": 13,
     "metadata": {},
     "output_type": "execute_result"
    },
    {
     "data": {
      "image/png": "[encoded data removed]",
      "text/plain": [
       "<Figure size 432x288 with 1 Axes>"
      ]
     },
     "metadata": {
      "needs_background": "light"
     },
     "output_type": "display_data"
    }
   ],
   "source": [
    "# Split the file size data by extension\n",
    "gz_data = cdiac_crawl_df[cdiac_crawl_df.extension == \"gz\"].size_bytes.values\n",
    "tar_data = cdiac_crawl_df[cdiac_crawl_df.extension == \"tar\"].size_bytes.values\n",
    "zip_data = cdiac_crawl_df[cdiac_crawl_df.extension == \"zip\"].size_bytes.values\n",
    "\n",
    "# Create bins in logspace\n",
    "bins = np.logspace(0,np.log10(max(cdiac_crawl_df[cdiac_crawl_df.label == \"compressed\"].size_bytes.values)), 50)\n",
    "\n",
    "# Plot the data\n",
    "plt.hist([gz_data, tar_data, zip_data], label=[\"gz\", \"tar\", \"zip\"], bins=bins)\n",
    "plt.yscale(\"log\")\n",
    "plt.xscale(\"log\")\n",
    "plt.xlabel(\"File size (bytes)\")\n",
    "plt.ylabel(\"Number of files\")\n",
    "plt.legend(loc=\"upper right\")"
   ]
  }
 ],
 "metadata": {
  "kernelspec": {
   "display_name": "Python 3",
   "language": "python",
   "name": "python3"
  },
  "language_info": {
   "codemirror_mode": {
    "name": "ipython",
    "version": 3
   },
   "file_extension": ".py",
   "mimetype": "text/x-python",
   "name": "python",
   "nbconvert_exporter": "python",
   "pygments_lexer": "ipython3",
   "version": "3.7.9"
  }
 },
 "nbformat": 4,
 "nbformat_minor": 1
}
