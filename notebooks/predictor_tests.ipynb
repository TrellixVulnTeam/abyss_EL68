{
 "cells": [
  {
   "cell_type": "code",
   "execution_count": 27,
   "id": "impressed-delta",
   "metadata": {},
   "outputs": [],
   "source": [
    "import numpy as np\n",
    "from keras.models import Sequential\n",
    "from keras.layers import Input, Dense, LayerNormalization\n",
    "from keras.optimizers import Adam, SGD\n",
    "import keras.backend as K\n",
    "import matplotlib.pyplot as plt\n",
    "import pandas as pd\n",
    "import sklearn.metrics\n",
    "import sklearn.linear_model\n",
    "import sklearn.preprocessing\n",
    "import statistics"
   ]
  },
  {
   "cell_type": "code",
   "execution_count": 10,
   "id": "green-harvest",
   "metadata": {},
   "outputs": [],
   "source": [
    "def MeanPositiveError(truth, prediction):\n",
    "    error = truth - prediction\n",
    "    error = error[error >= 0]\n",
    "    return np.sum(error)/np.shape(truth)[0]\n",
    "\n",
    "def keras_mpe(y_true, y_pred):\n",
    "    error = (y_true - y_pred)\n",
    "    positive_error = K.sum(error[K.greater_equal(error, 0)])\n",
    "    negative_error = K.sum(K.sqrt(K.abs(error[K.greater_equal(0.0, error)])))\n",
    "    \n",
    "    return 2 * positive_error + negative_error"
   ]
  },
  {
   "cell_type": "markdown",
   "id": "cosmetic-juice",
   "metadata": {},
   "source": [
    "## Zip Predictor"
   ]
  },
  {
   "cell_type": "code",
   "execution_count": 11,
   "id": "bulgarian-taylor",
   "metadata": {},
   "outputs": [],
   "source": [
    "# Import decompression size .csv\n",
    "zip_results_df = pd.read_csv(\"../data/zip_decompression_results.csv\")\n",
    "\n",
    "x = np.array(zip_results_df.compressed_size)\n",
    "y = np.array(zip_results_df.decompressed_size)"
   ]
  },
  {
   "cell_type": "code",
   "execution_count": 56,
   "id": "dried-casino",
   "metadata": {},
   "outputs": [
    {
     "name": "stdout",
     "output_type": "stream",
     "text": [
      "Line: [5.88836066]x + -21122719.688942432\n",
      "R^2: 0.4114918533032038\n",
      "MSE: 1.3310794749774374e+18\n",
      "RMSE: 1153724176.2992737\n",
      "MPE: 124010328.56158382\n"
     ]
    }
   ],
   "source": [
    "# Train sklearn model\n",
    "zip_sklearn_model = sklearn.linear_model.LinearRegression(fit_intercept=False)\n",
    "zip_sklearn_model.fit(x.reshape(-1, 1), y)\n",
    "\n",
    "y_pred = zip_sklearn_model.predict(x.reshape(-1, 1))\n",
    "\n",
    "print(f\"Line: {zip_sklearn_model.coef_}x + {zip_sklearn_model.intercept_}\")\n",
    "print(f\"R^2: {zip_sklearn_model.score(x.reshape(-1, 1), y)}\")\n",
    "print(f\"MSE: {sklearn.metrics.mean_squared_error(y, y_pred)}\")\n",
    "print(f\"RMSE: {np.sqrt(sklearn.metrics.mean_squared_error(y, y_pred))}\")\n",
    "print(f\"MPE: {MeanPositiveError(y, y_pred)}\")"
   ]
  },
  {
   "cell_type": "code",
   "execution_count": 59,
   "id": "continent-snake",
   "metadata": {},
   "outputs": [
    {
     "data": {
      "text/plain": [
       "652706588.9033701"
      ]
     },
     "execution_count": 59,
     "metadata": {},
     "output_type": "execute_result"
    }
   ],
   "source": [
    "error = y_pred - y\n",
    "np.quantile(error, 0.95)"
   ]
  },
  {
   "cell_type": "code",
   "execution_count": 6,
   "id": "blond-cooler",
   "metadata": {
    "scrolled": true
   },
   "outputs": [
    {
     "name": "stdout",
     "output_type": "stream",
     "text": [
      "Model: \"sequential\"\n",
      "_________________________________________________________________\n",
      "Layer (type)                 Output Shape              Param #   \n",
      "=================================================================\n",
      "dense (Dense)                (None, 1)                 1         \n",
      "=================================================================\n",
      "Total params: 1\n",
      "Trainable params: 1\n",
      "Non-trainable params: 0\n",
      "_________________________________________________________________\n",
      "Epoch 1/100\n",
      "53/53 [==============================] - 0s 529us/step - loss: 11.6355\n",
      "Epoch 2/100\n",
      "53/53 [==============================] - 0s 451us/step - loss: 10.2784\n",
      "Epoch 3/100\n",
      "53/53 [==============================] - 0s 430us/step - loss: 10.0719\n",
      "Epoch 4/100\n",
      "53/53 [==============================] - 0s 454us/step - loss: 10.9094\n",
      "Epoch 5/100\n",
      "53/53 [==============================] - 0s 460us/step - loss: 9.7637\n",
      "Epoch 6/100\n",
      "53/53 [==============================] - 0s 511us/step - loss: 11.7987\n",
      "Epoch 7/100\n",
      "53/53 [==============================] - 0s 486us/step - loss: 9.6409\n",
      "Epoch 8/100\n",
      "53/53 [==============================] - 0s 455us/step - loss: 11.3250\n",
      "Epoch 9/100\n",
      "53/53 [==============================] - 0s 435us/step - loss: 10.5018\n",
      "Epoch 10/100\n",
      "53/53 [==============================] - 0s 429us/step - loss: 9.8529\n",
      "Epoch 11/100\n",
      "53/53 [==============================] - 0s 417us/step - loss: 10.3850\n",
      "Epoch 12/100\n",
      "53/53 [==============================] - 0s 426us/step - loss: 10.9003\n",
      "Epoch 13/100\n",
      "53/53 [==============================] - 0s 425us/step - loss: 10.6241\n",
      "Epoch 14/100\n",
      "53/53 [==============================] - 0s 437us/step - loss: 9.9029\n",
      "Epoch 15/100\n",
      "53/53 [==============================] - 0s 411us/step - loss: 11.2068\n",
      "Epoch 16/100\n",
      "53/53 [==============================] - 0s 414us/step - loss: 11.2433\n",
      "Epoch 17/100\n",
      "53/53 [==============================] - 0s 432us/step - loss: 10.6302\n",
      "Epoch 18/100\n",
      "53/53 [==============================] - 0s 430us/step - loss: 18.4999\n",
      "Epoch 19/100\n",
      "53/53 [==============================] - 0s 429us/step - loss: 13.2362\n",
      "Epoch 20/100\n",
      "53/53 [==============================] - 0s 446us/step - loss: 11.9084\n",
      "Epoch 21/100\n",
      "53/53 [==============================] - 0s 436us/step - loss: 10.1293\n",
      "Epoch 22/100\n",
      "53/53 [==============================] - 0s 433us/step - loss: 10.0156\n",
      "Epoch 23/100\n",
      "53/53 [==============================] - 0s 459us/step - loss: 12.8168\n",
      "Epoch 24/100\n",
      "53/53 [==============================] - 0s 424us/step - loss: 12.0862\n",
      "Epoch 25/100\n",
      "53/53 [==============================] - 0s 463us/step - loss: 12.3288\n",
      "Epoch 26/100\n",
      "53/53 [==============================] - 0s 425us/step - loss: 12.6811\n",
      "Epoch 27/100\n",
      "53/53 [==============================] - 0s 424us/step - loss: 9.8982\n",
      "Epoch 28/100\n",
      "53/53 [==============================] - 0s 434us/step - loss: 10.9820\n",
      "Epoch 29/100\n",
      "53/53 [==============================] - 0s 412us/step - loss: 10.5570\n",
      "Epoch 30/100\n",
      "53/53 [==============================] - 0s 424us/step - loss: 11.8373\n",
      "Epoch 31/100\n",
      "53/53 [==============================] - 0s 419us/step - loss: 9.1047\n",
      "Epoch 32/100\n",
      "53/53 [==============================] - 0s 423us/step - loss: 11.2171\n",
      "Epoch 33/100\n",
      "53/53 [==============================] - 0s 433us/step - loss: 11.6333\n",
      "Epoch 34/100\n",
      "53/53 [==============================] - 0s 423us/step - loss: 9.8161\n",
      "Epoch 35/100\n",
      "53/53 [==============================] - 0s 445us/step - loss: 12.4920\n",
      "Epoch 36/100\n",
      "53/53 [==============================] - 0s 452us/step - loss: 10.2397\n",
      "Epoch 37/100\n",
      "53/53 [==============================] - 0s 468us/step - loss: 12.0814\n",
      "Epoch 38/100\n",
      "53/53 [==============================] - 0s 451us/step - loss: 22.9678\n",
      "Epoch 39/100\n",
      "53/53 [==============================] - 0s 525us/step - loss: 10.0233\n",
      "Epoch 40/100\n",
      "53/53 [==============================] - 0s 457us/step - loss: 11.3934\n",
      "Epoch 41/100\n",
      "53/53 [==============================] - 0s 427us/step - loss: 10.0272\n",
      "Epoch 42/100\n",
      "53/53 [==============================] - 0s 425us/step - loss: 10.2101\n",
      "Epoch 43/100\n",
      "53/53 [==============================] - 0s 448us/step - loss: 10.8580\n",
      "Epoch 44/100\n",
      "53/53 [==============================] - 0s 439us/step - loss: 9.4662\n",
      "Epoch 45/100\n",
      "53/53 [==============================] - 0s 429us/step - loss: 11.0714\n",
      "Epoch 46/100\n",
      "53/53 [==============================] - 0s 440us/step - loss: 9.6980\n",
      "Epoch 47/100\n",
      "53/53 [==============================] - 0s 439us/step - loss: 17.0073\n",
      "Epoch 48/100\n",
      "53/53 [==============================] - 0s 426us/step - loss: 12.2853\n",
      "Epoch 49/100\n",
      "53/53 [==============================] - 0s 441us/step - loss: 9.8374\n",
      "Epoch 50/100\n",
      "53/53 [==============================] - 0s 440us/step - loss: 10.1792\n",
      "Epoch 51/100\n",
      "53/53 [==============================] - 0s 454us/step - loss: 11.1257\n",
      "Epoch 52/100\n",
      "53/53 [==============================] - 0s 448us/step - loss: 9.5358\n",
      "Epoch 53/100\n",
      "53/53 [==============================] - 0s 456us/step - loss: 10.0845\n",
      "Epoch 54/100\n",
      "53/53 [==============================] - 0s 435us/step - loss: 11.5310\n",
      "Epoch 55/100\n",
      "53/53 [==============================] - 0s 445us/step - loss: 14.3608\n",
      "Epoch 56/100\n",
      "53/53 [==============================] - 0s 442us/step - loss: 12.3916\n",
      "Epoch 57/100\n",
      "53/53 [==============================] - 0s 447us/step - loss: 10.2026\n",
      "Epoch 58/100\n",
      "53/53 [==============================] - 0s 459us/step - loss: 9.7141\n",
      "Epoch 59/100\n",
      "53/53 [==============================] - 0s 493us/step - loss: 9.6559\n",
      "Epoch 60/100\n",
      "53/53 [==============================] - 0s 495us/step - loss: 13.9976\n",
      "Epoch 61/100\n",
      "53/53 [==============================] - 0s 495us/step - loss: 13.1950\n",
      "Epoch 62/100\n",
      "53/53 [==============================] - 0s 433us/step - loss: 13.3625\n",
      "Epoch 63/100\n",
      "53/53 [==============================] - 0s 434us/step - loss: 9.6957\n",
      "Epoch 64/100\n",
      "53/53 [==============================] - 0s 422us/step - loss: 9.9689\n",
      "Epoch 65/100\n",
      "53/53 [==============================] - 0s 427us/step - loss: 12.1123\n",
      "Epoch 66/100\n",
      "53/53 [==============================] - 0s 433us/step - loss: 11.5763\n",
      "Epoch 67/100\n",
      "53/53 [==============================] - 0s 430us/step - loss: 10.1766\n",
      "Epoch 68/100\n",
      "53/53 [==============================] - 0s 440us/step - loss: 16.9071\n",
      "Epoch 69/100\n",
      "53/53 [==============================] - 0s 426us/step - loss: 12.3948\n",
      "Epoch 70/100\n",
      "53/53 [==============================] - 0s 428us/step - loss: 12.6300\n",
      "Epoch 71/100\n",
      "53/53 [==============================] - 0s 441us/step - loss: 9.9725\n",
      "Epoch 72/100\n",
      "53/53 [==============================] - 0s 446us/step - loss: 10.0289\n",
      "Epoch 73/100\n",
      "53/53 [==============================] - 0s 455us/step - loss: 10.7635\n",
      "Epoch 74/100\n",
      "53/53 [==============================] - 0s 450us/step - loss: 9.7651\n",
      "Epoch 75/100\n",
      "53/53 [==============================] - 0s 439us/step - loss: 11.8380\n",
      "Epoch 76/100\n",
      "53/53 [==============================] - 0s 430us/step - loss: 10.2462\n",
      "Epoch 77/100\n",
      "53/53 [==============================] - 0s 444us/step - loss: 12.0611\n",
      "Epoch 78/100\n",
      "53/53 [==============================] - 0s 429us/step - loss: 8.8597\n",
      "Epoch 79/100\n",
      "53/53 [==============================] - 0s 424us/step - loss: 11.7555\n",
      "Epoch 80/100\n",
      "53/53 [==============================] - 0s 448us/step - loss: 11.2396\n",
      "Epoch 81/100\n",
      "53/53 [==============================] - 0s 424us/step - loss: 11.9308\n",
      "Epoch 82/100\n",
      "53/53 [==============================] - 0s 431us/step - loss: 11.2413\n",
      "Epoch 83/100\n",
      "53/53 [==============================] - 0s 429us/step - loss: 13.4579\n",
      "Epoch 84/100\n",
      "53/53 [==============================] - 0s 442us/step - loss: 8.9481\n",
      "Epoch 85/100\n",
      "53/53 [==============================] - 0s 440us/step - loss: 13.4357\n",
      "Epoch 86/100\n",
      "53/53 [==============================] - 0s 434us/step - loss: 9.3046\n",
      "Epoch 87/100\n",
      "53/53 [==============================] - 0s 455us/step - loss: 13.1381\n",
      "Epoch 88/100\n",
      "53/53 [==============================] - 0s 428us/step - loss: 10.2868\n",
      "Epoch 89/100\n",
      "53/53 [==============================] - 0s 448us/step - loss: 10.6826\n",
      "Epoch 90/100\n",
      "53/53 [==============================] - 0s 423us/step - loss: 9.8471\n",
      "Epoch 91/100\n",
      "53/53 [==============================] - 0s 456us/step - loss: 10.6690\n",
      "Epoch 92/100\n",
      "53/53 [==============================] - 0s 431us/step - loss: 9.2455\n",
      "Epoch 93/100\n",
      "53/53 [==============================] - 0s 418us/step - loss: 11.4024\n",
      "Epoch 94/100\n",
      "53/53 [==============================] - 0s 433us/step - loss: 10.3037\n",
      "Epoch 95/100\n",
      "53/53 [==============================] - 0s 421us/step - loss: 13.2635\n",
      "Epoch 96/100\n",
      "53/53 [==============================] - 0s 441us/step - loss: 13.7077\n",
      "Epoch 97/100\n",
      "53/53 [==============================] - 0s 425us/step - loss: 10.9174\n",
      "Epoch 98/100\n",
      "53/53 [==============================] - 0s 423us/step - loss: 10.5831\n",
      "Epoch 99/100\n",
      "53/53 [==============================] - 0s 440us/step - loss: 12.4266\n",
      "Epoch 100/100\n",
      "53/53 [==============================] - 0s 449us/step - loss: 10.3487\n",
      "MSE: 1345465664.7792487GB\n",
      "RMSE: 1.1599420954423754GB\n",
      "MPE: 0.1404391043977087GB\n"
     ]
    }
   ],
   "source": [
    "# Train keras model\n",
    "\n",
    "x_sc = sklearn.preprocessing.StandardScaler()\n",
    "y_sc = sklearn.preprocessing.StandardScaler()\n",
    "x_scaled = x_sc.fit_transform(x.reshape(-1, 1)).flatten()\n",
    "y_scaled = y_sc.fit_transform(y.reshape(-1, 1)).flatten()\n",
    "\n",
    "adam = Adam(lr=0.01)\n",
    "sgd = SGD(lr=0.01)\n",
    "\n",
    "zip_keras_model = Sequential()\n",
    "zip_keras_model.add(Input((1,)))\n",
    "zip_keras_model.add(Dense(1, activation=\"linear\", use_bias=False))\n",
    "zip_keras_model.compile(optimizer=sgd, loss=keras_mpe)\n",
    "\n",
    "zip_keras_model.summary()\n",
    "\n",
    "history = zip_keras_model.fit(x_scaled, y_scaled,\n",
    "                              epochs=100)\n",
    "\n",
    "y_pred = y_sc.inverse_transform(zip_keras_model.predict(x_scaled).reshape(-1, 1)).flatten()\n",
    "\n",
    "print(f\"MSE: {sklearn.metrics.mean_squared_error(y, y_pred) / (10 ** 9)}GB\")\n",
    "print(f\"RMSE: {np.sqrt(sklearn.metrics.mean_squared_error(y, y_pred)) / (10 ** 9)}GB\")\n",
    "print(f\"MPE: {MeanPositiveError(y, y_pred) / (10 ** 9)}GB\")"
   ]
  },
  {
   "cell_type": "code",
   "execution_count": 7,
   "id": "vocational-aviation",
   "metadata": {},
   "outputs": [],
   "source": [
    "def zip_keras_predict(x):\n",
    "    x_scaled = x_sc.transform(x)\n",
    "    return y_sc.inverse_transform(zip_keras_model.predict(x_scaled).reshape(-1, 1)).flatten()"
   ]
  },
  {
   "cell_type": "code",
   "execution_count": 67,
   "id": "owned-girlfriend",
   "metadata": {},
   "outputs": [
    {
     "data": {
      "text/plain": [
       "Text(0, 0.5, 'Decompressed size (bytes)')"
      ]
     },
     "execution_count": 67,
     "metadata": {},
     "output_type": "execute_result"
    },
    {
     "data": {
      "image/png": "[encoded data removed]",
      "text/plain": [
       "<Figure size 432x288 with 1 Axes>"
      ]
     },
     "metadata": {
      "needs_background": "light"
     },
     "output_type": "display_data"
    }
   ],
   "source": [
    "# Visualize compression vs. decompression\n",
    "x1 = zip_results_df.compressed_size\n",
    "y1 = zip_results_df.decompressed_size\n",
    "\n",
    "# Figure 1\n",
    "for name, group in zip_results_df.groupby(\"origin\"):\n",
    "    plt.plot(group.compressed_size, group.decompressed_size, marker=\"o\", linestyle=\"\", label=name)\n",
    "\n",
    "plt.plot(np.array([i for i in range(1, 25*10**8, 25*10**7)]), \n",
    "         zip_sklearn_model.predict(np.array([i for i in range(1, 25*10**8, 25*10**7)]).reshape(-1, 1)), \n",
    "         label=\"Scikit\")\n",
    "\n",
    "plt.plot(np.array([i for i in range(1, 25*10**8, 25*10**7)]), \n",
    "         zip_sklearn_model.predict(np.array([i for i in range(1, 25*10**8, 25*10**7)]).reshape(-1, 1)) + 668651146.3711116, \n",
    "         label=\"Scikit Error\")\n",
    "\n",
    "# plt.plot(np.array([i for i in range(1, 25*10**8, 25*10**7)]), \n",
    "#          zip_keras_predict(np.array([i for i in range(1, 25*10**8, 25*10**7)]).reshape(-1, 1)), \n",
    "#          label=\"Keras\")\n",
    "\n",
    "plt.legend()\n",
    "plt.title(\"Zip compressed vs. decompressed size\")\n",
    "plt.xlabel(\"Compressed size (bytes)\")\n",
    "plt.ylabel(\"Decompressed size (bytes)\")"
   ]
  },
  {
   "cell_type": "markdown",
   "id": "helpful-sentence",
   "metadata": {},
   "source": [
    "## Gzip Predictor"
   ]
  },
  {
   "cell_type": "code",
   "execution_count": 60,
   "id": "deadly-berlin",
   "metadata": {},
   "outputs": [],
   "source": [
    "# Import decompression size .csv\n",
    "gzip_results_df = pd.read_csv(\"../data/gzip_decompression_results.csv\")\n",
    "\n",
    "x = np.array(gzip_results_df.compressed_size)\n",
    "y = np.array(gzip_results_df.decompressed_size)"
   ]
  },
  {
   "cell_type": "code",
   "execution_count": 62,
   "id": "intensive-martin",
   "metadata": {},
   "outputs": [
    {
     "name": "stdout",
     "output_type": "stream",
     "text": [
      "Line: [2.76372148]x + 0.0\n",
      "R^2: 0.8473381354511799\n",
      "MSE: 4.345623941538796e+16\n",
      "RMSE: 208461601.7768931\n",
      "MPE: 30692605.71863196\n"
     ]
    }
   ],
   "source": [
    "# Train sklearn model\n",
    "gzip_sklearn_model = sklearn.linear_model.LinearRegression(fit_intercept=False)\n",
    "gzip_sklearn_model.fit(x.reshape(-1, 1), y)\n",
    "\n",
    "y_pred = gzip_sklearn_model.predict(x.reshape(-1, 1))\n",
    "\n",
    "print(f\"Line: {gzip_sklearn_model.coef_}x + {gzip_sklearn_model.intercept_}\")\n",
    "print(f\"R^2: {gzip_sklearn_model.score(x.reshape(-1, 1), y)}\")\n",
    "print(f\"MSE: {sklearn.metrics.mean_squared_error(y, y_pred)}\")\n",
    "print(f\"RMSE: {np.sqrt(sklearn.metrics.mean_squared_error(y, y_pred))}\")\n",
    "print(f\"MPE: {MeanPositiveError(y, y_pred)}\")"
   ]
  },
  {
   "cell_type": "code",
   "execution_count": 74,
   "id": "allied-control",
   "metadata": {},
   "outputs": [
    {
     "data": {
      "text/plain": [
       "7038058.413954257"
      ]
     },
     "execution_count": 74,
     "metadata": {},
     "output_type": "execute_result"
    }
   ],
   "source": [
    "error = y_pred - y\n",
    "np.quantile(error, 0.95)"
   ]
  },
  {
   "cell_type": "code",
   "execution_count": 80,
   "id": "dietary-publication",
   "metadata": {},
   "outputs": [
    {
     "data": {
      "text/plain": [
       "Text(0, 0.5, 'Decompressed size (bytes)')"
      ]
     },
     "execution_count": 80,
     "metadata": {},
     "output_type": "execute_result"
    },
    {
     "data": {
      "image/png": "[encoded data removed]",
      "text/plain": [
       "<Figure size 432x288 with 1 Axes>"
      ]
     },
     "metadata": {
      "needs_background": "light"
     },
     "output_type": "display_data"
    }
   ],
   "source": [
    "# Visualize compression vs. decompression\n",
    "x1 = gzip_results_df.compressed_size\n",
    "y1 = gzip_results_df.decompressed_size\n",
    "\n",
    "# Figure 1\n",
    "for name, group in gzip_results_df.groupby(\"origin\"):\n",
    "    plt.plot(group.compressed_size, group.decompressed_size, marker=\"o\", linestyle=\"\", label=name)\n",
    "\n",
    "plt.plot(np.array([i for i in range(1, 45*10**8, 25*10**7)]), \n",
    "         gzip_sklearn_model.predict(np.array([i for i in range(1, 45*10**8, 25*10**7)]).reshape(-1, 1)), \n",
    "         label=\"Scikit\")\n",
    "\n",
    "plt.plot(np.array([i for i in range(1, 45*10**8, 25*10**7)]), \n",
    "         gzip_sklearn_model.predict(np.array([i for i in range(1, 45*10**8, 25*10**7)]).reshape(-1, 1)) + 7038058.413954257, \n",
    "         label=\"Scikit Error\")\n",
    "\n",
    "# plt.plot(np.array([i for i in range(1, 25*10**8, 25*10**7)]), \n",
    "#          zip_keras_predict(np.array([i for i in range(1, 25*10**8, 25*10**7)]).reshape(-1, 1)), \n",
    "#          label=\"Keras\")\n",
    "\n",
    "plt.legend()\n",
    "plt.title(\"Zip compressed vs. decompressed size\")\n",
    "plt.xlabel(\"Compressed size (bytes)\")\n",
    "plt.ylabel(\"Decompressed size (bytes)\")"
   ]
  },
  {
   "cell_type": "markdown",
   "id": "later-bradley",
   "metadata": {},
   "source": [
    "## Tar Predictor"
   ]
  },
  {
   "cell_type": "code",
   "execution_count": 107,
   "id": "expensive-simple",
   "metadata": {},
   "outputs": [],
   "source": [
    "# Import decompression size .csv\n",
    "tar_results_df = pd.read_csv(\"../data/tar_decompression_results.csv\")\n",
    "\n",
    "x = np.array(tar_results_df.compressed_size)\n",
    "y = np.array(tar_results_df.decompressed_size)"
   ]
  },
  {
   "cell_type": "code",
   "execution_count": 108,
   "id": "severe-census",
   "metadata": {},
   "outputs": [
    {
     "name": "stdout",
     "output_type": "stream",
     "text": [
      "Line: [3.1911584]x + 0.0\n",
      "R^2: 0.9762367912424945\n",
      "MSE: 6.551587325313838e+17\n",
      "RMSE: 809418762.1567614\n",
      "MPE: 55223946.37318251\n"
     ]
    }
   ],
   "source": [
    "# Train sklearn model\n",
    "tar_sklearn_model = sklearn.linear_model.LinearRegression(fit_intercept=False)\n",
    "tar_sklearn_model.fit(x.reshape(-1, 1), y)\n",
    "\n",
    "y_pred = tar_sklearn_model.predict(x.reshape(-1, 1))\n",
    "\n",
    "print(f\"Line: {tar_sklearn_model.coef_}x + {tar_sklearn_model.intercept_}\")\n",
    "print(f\"R^2: {tar_sklearn_model.score(x.reshape(-1, 1), y)}\")\n",
    "print(f\"MSE: {sklearn.metrics.mean_squared_error(y, y_pred)}\")\n",
    "print(f\"RMSE: {np.sqrt(sklearn.metrics.mean_squared_error(y, y_pred))}\")\n",
    "print(f\"MPE: {MeanPositiveError(y, y_pred)}\")"
   ]
  },
  {
   "cell_type": "code",
   "execution_count": 110,
   "id": "metric-bicycle",
   "metadata": {},
   "outputs": [
    {
     "data": {
      "text/plain": [
       "595931136.9222465"
      ]
     },
     "execution_count": 110,
     "metadata": {},
     "output_type": "execute_result"
    }
   ],
   "source": [
    "error = y_pred - y\n",
    "np.quantile(error, 0.95)"
   ]
  },
  {
   "cell_type": "code",
   "execution_count": 112,
   "id": "mineral-recall",
   "metadata": {},
   "outputs": [
    {
     "data": {
      "text/plain": [
       "Text(0, 0.5, 'Decompressed size (bytes)')"
      ]
     },
     "execution_count": 112,
     "metadata": {},
     "output_type": "execute_result"
    },
    {
     "data": {
      "image/png": "[encoded data removed]",
      "text/plain": [
       "<Figure size 432x288 with 1 Axes>"
      ]
     },
     "metadata": {
      "needs_background": "light"
     },
     "output_type": "display_data"
    }
   ],
   "source": [
    "# Visualize compression vs. decompression\n",
    "tar_results_df = tar_results_df[tar_results_df.decompressed_size < 1.5*10**9]\n",
    "\n",
    "x1 = tar_results_df.compressed_size\n",
    "y1 = tar_results_df.decompressed_size\n",
    "\n",
    "# Figure 1\n",
    "for name, group in tar_results_df.groupby(\"origin\"):\n",
    "    plt.plot(group.compressed_size, group.decompressed_size, marker=\"o\", linestyle=\"\", label=name)\n",
    "\n",
    "plt.plot(np.array([i for i in range(1, 15*10**8, 25*10**7)]), \n",
    "         tar_sklearn_model.predict(np.array([i for i in range(1, 15*10**8, 25*10**7)]).reshape(-1, 1)), \n",
    "         label=\"Scikit\")\n",
    "\n",
    "plt.plot(np.array([i for i in range(1, 15*10**8, 25*10**7)]), \n",
    "         tar_sklearn_model.predict(np.array([i for i in range(1, 15*10**8, 25*10**7)]).reshape(-1, 1)) + 595931136.9222465, \n",
    "         label=\"Scikit Error\")\n",
    "\n",
    "# plt.plot(np.array([i for i in range(1, 25*10**8, 25*10**7)]), \n",
    "#          zip_keras_predict(np.array([i for i in range(1, 25*10**8, 25*10**7)]).reshape(-1, 1)), \n",
    "#          label=\"Keras\")\n",
    "\n",
    "plt.legend()\n",
    "plt.title(\"Zip compressed vs. decompressed size\")\n",
    "plt.xlabel(\"Compressed size (bytes)\")\n",
    "plt.ylabel(\"Decompressed size (bytes)\")"
   ]
  },
  {
   "cell_type": "code",
   "execution_count": null,
   "id": "faced-relation",
   "metadata": {},
   "outputs": [],
   "source": []
  }
 ],
 "metadata": {
  "kernelspec": {
   "display_name": "Python 3",
   "language": "python",
   "name": "python3"
  },
  "language_info": {
   "codemirror_mode": {
    "name": "ipython",
    "version": 3
   },
   "file_extension": ".py",
   "mimetype": "text/x-python",
   "name": "python",
   "nbconvert_exporter": "python",
   "pygments_lexer": "ipython3",
   "version": "3.7.9"
  }
 },
 "nbformat": 4,
 "nbformat_minor": 5
}
