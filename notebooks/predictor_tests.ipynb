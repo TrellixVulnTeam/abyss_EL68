{
 "cells": [
  {
   "cell_type": "code",
   "execution_count": 1,
   "id": "impressed-delta",
   "metadata": {},
   "outputs": [],
   "source": [
    "import numpy as np\n",
    "from keras.models import Sequential\n",
    "from keras.layers import Input, Dense, LayerNormalization\n",
    "from keras.optimizers import Adam, SGD\n",
    "import keras.backend as K\n",
    "import matplotlib.pyplot as plt\n",
    "import pandas as pd\n",
    "import sklearn.metrics\n",
    "import sklearn.linear_model\n",
    "import sklearn.preprocessing\n",
    "import statistics"
   ]
  },
  {
   "cell_type": "code",
   "execution_count": 2,
   "id": "green-harvest",
   "metadata": {},
   "outputs": [],
   "source": [
    "def MeanPositiveError(truth, prediction):\n",
    "    error = truth - prediction\n",
    "    error = error[error >= 0]\n",
    "    return np.sum(error)/np.shape(truth)[0]\n",
    "\n",
    "def keras_mpe(y_true, y_pred):\n",
    "    error = (y_true - y_pred)\n",
    "    positive_error = K.sum(error[K.greater_equal(error, 0)])\n",
    "    negative_error = K.sum(K.sqrt(K.abs(error[K.greater_equal(0.0, error)])))\n",
    "    \n",
    "    return 2 * positive_error + negative_error"
   ]
  },
  {
   "cell_type": "markdown",
   "id": "cosmetic-juice",
   "metadata": {},
   "source": [
    "## Zip Predictor"
   ]
  },
  {
   "cell_type": "code",
   "execution_count": 3,
   "id": "bulgarian-taylor",
   "metadata": {},
   "outputs": [],
   "source": [
    "# Import decompression size .csv\n",
    "zip_results_df = pd.read_csv(\"../data/zip_decompression_results.csv\")\n",
    "\n",
    "x = np.array(zip_results_df.compressed_size)\n",
    "y = np.array(zip_results_df.decompressed_size)"
   ]
  },
  {
   "cell_type": "code",
   "execution_count": 4,
   "id": "dried-casino",
   "metadata": {},
   "outputs": [
    {
     "name": "stdout",
     "output_type": "stream",
     "text": [
      "Line: [5.85125935]x + 0.0\n",
      "R^2: 0.4113125630593395\n",
      "MSE: 1.3314849911372577e+18\n",
      "RMSE: 1153899905.1639001\n",
      "MPE: 109879416.00334726\n"
     ]
    }
   ],
   "source": [
    "# Train sklearn model\n",
    "zip_sklearn_model = sklearn.linear_model.LinearRegression(fit_intercept=False)\n",
    "zip_sklearn_model.fit(x.reshape(-1, 1), y)\n",
    "\n",
    "y_pred = zip_sklearn_model.predict(x.reshape(-1, 1))\n",
    "\n",
    "print(f\"Line: {zip_sklearn_model.coef_}x + {zip_sklearn_model.intercept_}\")\n",
    "print(f\"R^2: {zip_sklearn_model.score(x.reshape(-1, 1), y)}\")\n",
    "print(f\"MSE: {sklearn.metrics.mean_squared_error(y, y_pred)}\")\n",
    "print(f\"RMSE: {np.sqrt(sklearn.metrics.mean_squared_error(y, y_pred))}\")\n",
    "print(f\"MPE: {MeanPositiveError(y, y_pred)}\")"
   ]
  },
  {
   "cell_type": "code",
   "execution_count": 5,
   "id": "continent-snake",
   "metadata": {},
   "outputs": [
    {
     "data": {
      "text/plain": [
       "668651146.3711116"
      ]
     },
     "execution_count": 5,
     "metadata": {},
     "output_type": "execute_result"
    }
   ],
   "source": [
    "error = y_pred - y\n",
    "np.quantile(error, 0.95)"
   ]
  },
  {
   "cell_type": "code",
   "execution_count": 6,
   "id": "blond-cooler",
   "metadata": {
    "scrolled": true
   },
   "outputs": [
    {
     "name": "stdout",
     "output_type": "stream",
     "text": [
      "Model: \"sequential\"\n",
      "_________________________________________________________________\n",
      "Layer (type)                 Output Shape              Param #   \n",
      "=================================================================\n",
      "dense (Dense)                (None, 1)                 1         \n",
      "=================================================================\n",
      "Total params: 1\n",
      "Trainable params: 1\n",
      "Non-trainable params: 0\n",
      "_________________________________________________________________\n",
      "Epoch 1/100\n",
      "53/53 [==============================] - 1s 741us/step - loss: 13.8078\n",
      "Epoch 2/100\n",
      "53/53 [==============================] - 0s 867us/step - loss: 10.4909\n",
      "Epoch 3/100\n",
      "53/53 [==============================] - 0s 888us/step - loss: 9.7051\n",
      "Epoch 4/100\n",
      "53/53 [==============================] - 0s 943us/step - loss: 13.5043\n",
      "Epoch 5/100\n",
      "53/53 [==============================] - 0s 879us/step - loss: 30.4849\n",
      "Epoch 6/100\n",
      "53/53 [==============================] - 0s 744us/step - loss: 11.2612\n",
      "Epoch 7/100\n",
      "53/53 [==============================] - 0s 793us/step - loss: 10.3593\n",
      "Epoch 8/100\n",
      "53/53 [==============================] - 0s 897us/step - loss: 10.1561\n",
      "Epoch 9/100\n",
      "53/53 [==============================] - 0s 755us/step - loss: 11.0923\n",
      "Epoch 10/100\n",
      "53/53 [==============================] - 0s 775us/step - loss: 10.1303\n",
      "Epoch 11/100\n",
      "53/53 [==============================] - 0s 843us/step - loss: 12.0619\n",
      "Epoch 12/100\n",
      "53/53 [==============================] - 0s 883us/step - loss: 11.6241\n",
      "Epoch 13/100\n",
      "53/53 [==============================] - 0s 785us/step - loss: 11.8946\n",
      "Epoch 14/100\n",
      "53/53 [==============================] - 0s 946us/step - loss: 11.2401\n",
      "Epoch 15/100\n",
      "53/53 [==============================] - 0s 786us/step - loss: 11.9308\n",
      "Epoch 16/100\n",
      "53/53 [==============================] - 0s 764us/step - loss: 13.5404\n",
      "Epoch 17/100\n",
      "53/53 [==============================] - 0s 686us/step - loss: 10.6224\n",
      "Epoch 18/100\n",
      "53/53 [==============================] - 0s 710us/step - loss: 9.5917\n",
      "Epoch 19/100\n",
      "53/53 [==============================] - 0s 695us/step - loss: 9.3746\n",
      "Epoch 20/100\n",
      "53/53 [==============================] - 0s 639us/step - loss: 10.6877\n",
      "Epoch 21/100\n",
      "53/53 [==============================] - 0s 809us/step - loss: 11.8672\n",
      "Epoch 22/100\n",
      "53/53 [==============================] - 0s 752us/step - loss: 10.9267\n",
      "Epoch 23/100\n",
      "53/53 [==============================] - 0s 624us/step - loss: 13.3992\n",
      "Epoch 24/100\n",
      "53/53 [==============================] - 0s 702us/step - loss: 9.8698\n",
      "Epoch 25/100\n",
      "53/53 [==============================] - 0s 654us/step - loss: 9.8735\n",
      "Epoch 26/100\n",
      "53/53 [==============================] - 0s 799us/step - loss: 11.8286\n",
      "Epoch 27/100\n",
      "53/53 [==============================] - 0s 809us/step - loss: 10.3513\n",
      "Epoch 28/100\n",
      "53/53 [==============================] - 0s 849us/step - loss: 9.7963\n",
      "Epoch 29/100\n",
      "53/53 [==============================] - 0s 948us/step - loss: 10.5504\n",
      "Epoch 30/100\n",
      "53/53 [==============================] - 0s 724us/step - loss: 16.9003\n",
      "Epoch 31/100\n",
      "53/53 [==============================] - 0s 678us/step - loss: 9.1665\n",
      "Epoch 32/100\n",
      "53/53 [==============================] - 0s 847us/step - loss: 11.1636\n",
      "Epoch 33/100\n",
      "53/53 [==============================] - 0s 729us/step - loss: 16.8246\n",
      "Epoch 34/100\n",
      "53/53 [==============================] - 0s 661us/step - loss: 11.6067\n",
      "Epoch 35/100\n",
      "53/53 [==============================] - 0s 576us/step - loss: 12.6313\n",
      "Epoch 36/100\n",
      "53/53 [==============================] - 0s 706us/step - loss: 10.8977\n",
      "Epoch 37/100\n",
      "53/53 [==============================] - 0s 588us/step - loss: 10.0917\n",
      "Epoch 38/100\n",
      "53/53 [==============================] - 0s 578us/step - loss: 10.5429\n",
      "Epoch 39/100\n",
      "53/53 [==============================] - 0s 708us/step - loss: 9.4931\n",
      "Epoch 40/100\n",
      "53/53 [==============================] - 0s 811us/step - loss: 10.3323\n",
      "Epoch 41/100\n",
      "53/53 [==============================] - 0s 723us/step - loss: 9.6850\n",
      "Epoch 42/100\n",
      "53/53 [==============================] - 0s 951us/step - loss: 12.4038\n",
      "Epoch 43/100\n",
      "53/53 [==============================] - 0s 1ms/step - loss: 13.4344\n",
      "Epoch 44/100\n",
      "53/53 [==============================] - 0s 956us/step - loss: 8.8736\n",
      "Epoch 45/100\n",
      "53/53 [==============================] - 0s 935us/step - loss: 13.9270\n",
      "Epoch 46/100\n",
      "53/53 [==============================] - 0s 825us/step - loss: 12.1626\n",
      "Epoch 47/100\n",
      "53/53 [==============================] - 0s 775us/step - loss: 10.3957\n",
      "Epoch 48/100\n",
      "53/53 [==============================] - 0s 843us/step - loss: 12.7488\n",
      "Epoch 49/100\n",
      "53/53 [==============================] - 0s 908us/step - loss: 10.2675\n",
      "Epoch 50/100\n",
      "53/53 [==============================] - 0s 758us/step - loss: 12.0881\n",
      "Epoch 51/100\n",
      "53/53 [==============================] - 0s 684us/step - loss: 10.0765\n",
      "Epoch 52/100\n",
      "53/53 [==============================] - 0s 618us/step - loss: 10.0818\n",
      "Epoch 53/100\n",
      "53/53 [==============================] - 0s 653us/step - loss: 10.8015\n",
      "Epoch 54/100\n",
      "53/53 [==============================] - 0s 710us/step - loss: 9.2034\n",
      "Epoch 55/100\n",
      "53/53 [==============================] - 0s 702us/step - loss: 12.5183\n",
      "Epoch 56/100\n",
      "53/53 [==============================] - 0s 732us/step - loss: 18.6933\n",
      "Epoch 57/100\n",
      "53/53 [==============================] - 0s 810us/step - loss: 10.0101\n",
      "Epoch 58/100\n",
      "53/53 [==============================] - 0s 605us/step - loss: 9.1084\n",
      "Epoch 59/100\n",
      "53/53 [==============================] - 0s 751us/step - loss: 11.8165\n",
      "Epoch 60/100\n",
      "53/53 [==============================] - 0s 770us/step - loss: 9.3481\n",
      "Epoch 61/100\n",
      "53/53 [==============================] - 0s 623us/step - loss: 11.2215\n",
      "Epoch 62/100\n",
      "53/53 [==============================] - 0s 624us/step - loss: 11.9955\n",
      "Epoch 63/100\n",
      "53/53 [==============================] - 0s 651us/step - loss: 11.1326\n",
      "Epoch 64/100\n",
      "53/53 [==============================] - 0s 798us/step - loss: 11.4845\n",
      "Epoch 65/100\n",
      "53/53 [==============================] - 0s 939us/step - loss: 10.1868\n",
      "Epoch 66/100\n",
      "53/53 [==============================] - 0s 678us/step - loss: 14.1402\n",
      "Epoch 67/100\n",
      "53/53 [==============================] - 0s 738us/step - loss: 10.0942\n",
      "Epoch 68/100\n",
      "53/53 [==============================] - 0s 658us/step - loss: 9.9789\n",
      "Epoch 69/100\n",
      "53/53 [==============================] - 0s 577us/step - loss: 10.3303\n",
      "Epoch 70/100\n",
      "53/53 [==============================] - 0s 625us/step - loss: 11.2536\n",
      "Epoch 71/100\n",
      "53/53 [==============================] - 0s 841us/step - loss: 9.1683\n",
      "Epoch 72/100\n",
      "53/53 [==============================] - 0s 745us/step - loss: 10.7820\n",
      "Epoch 73/100\n",
      "53/53 [==============================] - 0s 679us/step - loss: 9.5851\n",
      "Epoch 74/100\n",
      "53/53 [==============================] - 0s 649us/step - loss: 9.9518\n",
      "Epoch 75/100\n",
      "53/53 [==============================] - 0s 665us/step - loss: 12.2615\n",
      "Epoch 76/100\n",
      "53/53 [==============================] - 0s 715us/step - loss: 11.2937\n",
      "Epoch 77/100\n",
      "53/53 [==============================] - 0s 682us/step - loss: 11.3904\n",
      "Epoch 78/100\n",
      "53/53 [==============================] - 0s 814us/step - loss: 10.5946\n",
      "Epoch 79/100\n",
      "53/53 [==============================] - 0s 641us/step - loss: 10.2106\n",
      "Epoch 80/100\n",
      "53/53 [==============================] - 0s 747us/step - loss: 11.9249\n",
      "Epoch 81/100\n",
      "53/53 [==============================] - 0s 833us/step - loss: 8.7630\n",
      "Epoch 82/100\n",
      "53/53 [==============================] - 0s 696us/step - loss: 10.8416\n",
      "Epoch 83/100\n",
      "53/53 [==============================] - 0s 817us/step - loss: 11.2538\n",
      "Epoch 84/100\n",
      "53/53 [==============================] - 0s 707us/step - loss: 10.1803\n",
      "Epoch 85/100\n",
      "53/53 [==============================] - 0s 667us/step - loss: 11.0497\n",
      "Epoch 86/100\n",
      "53/53 [==============================] - 0s 686us/step - loss: 11.0183\n",
      "Epoch 87/100\n",
      "53/53 [==============================] - 0s 685us/step - loss: 10.1496\n",
      "Epoch 88/100\n",
      "53/53 [==============================] - 0s 801us/step - loss: 11.6239\n",
      "Epoch 89/100\n",
      "53/53 [==============================] - 0s 736us/step - loss: 9.8401\n",
      "Epoch 90/100\n",
      "53/53 [==============================] - 0s 788us/step - loss: 13.2484\n",
      "Epoch 91/100\n",
      "53/53 [==============================] - 0s 679us/step - loss: 13.0050\n",
      "Epoch 92/100\n",
      "53/53 [==============================] - 0s 676us/step - loss: 10.5700\n",
      "Epoch 93/100\n"
     ]
    },
    {
     "name": "stdout",
     "output_type": "stream",
     "text": [
      "53/53 [==============================] - 0s 642us/step - loss: 9.3829\n",
      "Epoch 94/100\n",
      "53/53 [==============================] - 0s 676us/step - loss: 10.8400\n",
      "Epoch 95/100\n",
      "53/53 [==============================] - 0s 534us/step - loss: 11.2574\n",
      "Epoch 96/100\n",
      "53/53 [==============================] - 0s 741us/step - loss: 11.1974\n",
      "Epoch 97/100\n",
      "53/53 [==============================] - 0s 741us/step - loss: 10.3113\n",
      "Epoch 98/100\n",
      "53/53 [==============================] - 0s 820us/step - loss: 11.2735\n",
      "Epoch 99/100\n",
      "53/53 [==============================] - 0s 645us/step - loss: 12.5257\n",
      "Epoch 100/100\n",
      "53/53 [==============================] - 0s 600us/step - loss: 10.2552\n",
      "MSE: 1371034016.5691843GB\n",
      "RMSE: 1.1709116177445607GB\n",
      "MPE: 0.15251121428156567GB\n"
     ]
    }
   ],
   "source": [
    "# Train keras model\n",
    "\n",
    "x_sc = sklearn.preprocessing.StandardScaler()\n",
    "y_sc = sklearn.preprocessing.StandardScaler()\n",
    "x_scaled = x_sc.fit_transform(x.reshape(-1, 1)).flatten()\n",
    "y_scaled = y_sc.fit_transform(y.reshape(-1, 1)).flatten()\n",
    "\n",
    "adam = Adam(lr=0.01)\n",
    "sgd = SGD(lr=0.01)\n",
    "\n",
    "zip_keras_model = Sequential()\n",
    "zip_keras_model.add(Input((1,)))\n",
    "zip_keras_model.add(Dense(1, activation=\"linear\", use_bias=False))\n",
    "zip_keras_model.compile(optimizer=sgd, loss=keras_mpe)\n",
    "\n",
    "zip_keras_model.summary()\n",
    "\n",
    "history = zip_keras_model.fit(x_scaled, y_scaled,\n",
    "                              epochs=100)\n",
    "\n",
    "y_pred = y_sc.inverse_transform(zip_keras_model.predict(x_scaled).reshape(-1, 1)).flatten()\n",
    "\n",
    "print(f\"MSE: {sklearn.metrics.mean_squared_error(y, y_pred) / (10 ** 9)}GB\")\n",
    "print(f\"RMSE: {np.sqrt(sklearn.metrics.mean_squared_error(y, y_pred)) / (10 ** 9)}GB\")\n",
    "print(f\"MPE: {MeanPositiveError(y, y_pred) / (10 ** 9)}GB\")"
   ]
  },
  {
   "cell_type": "code",
   "execution_count": 7,
   "id": "vocational-aviation",
   "metadata": {},
   "outputs": [],
   "source": [
    "def zip_keras_predict(x):\n",
    "    x_scaled = x_sc.transform(x)\n",
    "    return y_sc.inverse_transform(zip_keras_model.predict(x_scaled).reshape(-1, 1)).flatten()"
   ]
  },
  {
   "cell_type": "code",
   "execution_count": 8,
   "id": "owned-girlfriend",
   "metadata": {},
   "outputs": [
    {
     "data": {
      "text/plain": [
       "Text(0, 0.5, 'Decompressed size (bytes)')"
      ]
     },
     "execution_count": 8,
     "metadata": {},
     "output_type": "execute_result"
    },
    {
     "data": {
      "image/png": "[encoded data removed]",
      "text/plain": [
       "<Figure size 432x288 with 1 Axes>"
      ]
     },
     "metadata": {
      "needs_background": "light"
     },
     "output_type": "display_data"
    }
   ],
   "source": [
    "# Visualize compression vs. decompression\n",
    "x1 = zip_results_df.compressed_size\n",
    "y1 = zip_results_df.decompressed_size\n",
    "\n",
    "# Figure 1\n",
    "for name, group in zip_results_df.groupby(\"origin\"):\n",
    "    plt.plot(group.compressed_size, group.decompressed_size, marker=\"o\", linestyle=\"\", label=name)\n",
    "\n",
    "plt.plot(np.array([i for i in range(1, 25*10**8, 25*10**7)]), \n",
    "         zip_sklearn_model.predict(np.array([i for i in range(1, 25*10**8, 25*10**7)]).reshape(-1, 1)), \n",
    "         label=\"Scikit\")\n",
    "\n",
    "plt.plot(np.array([i for i in range(1, 25*10**8, 25*10**7)]), \n",
    "         zip_sklearn_model.predict(np.array([i for i in range(1, 25*10**8, 25*10**7)]).reshape(-1, 1)) + 668651146.3711116, \n",
    "         label=\"Scikit Error\")\n",
    "\n",
    "# plt.plot(np.array([i for i in range(1, 25*10**8, 25*10**7)]), \n",
    "#          zip_keras_predict(np.array([i for i in range(1, 25*10**8, 25*10**7)]).reshape(-1, 1)), \n",
    "#          label=\"Keras\")\n",
    "\n",
    "plt.legend()\n",
    "plt.title(\"Zip compressed vs. decompressed size\")\n",
    "plt.xlabel(\"Compressed size (bytes)\")\n",
    "plt.ylabel(\"Decompressed size (bytes)\")"
   ]
  },
  {
   "cell_type": "markdown",
   "id": "helpful-sentence",
   "metadata": {},
   "source": [
    "## Gzip Predictor"
   ]
  },
  {
   "cell_type": "code",
   "execution_count": 78,
   "id": "practical-skiing",
   "metadata": {},
   "outputs": [],
   "source": [
    "def categorize(x):\n",
    "    categories = []\n",
    "    \n",
    "    for i in x:\n",
    "        if i == 0:\n",
    "            categories.append(0)\n",
    "        else:\n",
    "            categories.append(int(np.floor(np.log10(i))))\n",
    "            \n",
    "    return categories"
   ]
  },
  {
   "cell_type": "code",
   "execution_count": 91,
   "id": "blocked-princeton",
   "metadata": {},
   "outputs": [
    {
     "name": "stdout",
     "output_type": "stream",
     "text": [
      "[[     18068          0          0 ...          0          0          0]\n",
      " [1388469496          0          0 ...          0          0          1]\n",
      " [    241217          0          0 ...          0          0          0]\n",
      " ...\n",
      " [ 164545364          0          0 ...          0          1          0]\n",
      " [   5013398          0          0 ...          0          0          0]\n",
      " [   2299727          0          0 ...          0          0          0]]\n"
     ]
    }
   ],
   "source": [
    "# Import decompression size .csv\n",
    "gzip_results_df = pd.read_csv(\"../data/gzip_decompression_results.csv\")\n",
    "gzip_results_df[\"size_bin\"] = categorize(list(gzip_results_df.compressed_size))\n",
    "\n",
    "one_hot = pd.get_dummies(gzip_results_df.size_bin)\n",
    "# Drop column B as it is now encoded\n",
    "gzip_results_df = gzip_results_df.drop(\"size_bin\",axis = 1)\n",
    "# Join the encoded df\n",
    "gzip_results_df = gzip_results_df.join(one_hot)\n",
    "# print(gzip_results_df.compressed_size.to_frame().join(one_hot))\n",
    "\n",
    "gzip_x = np.array(gzip_results_df.compressed_size.to_frame().join(one_hot))\n",
    "gzip_y = np.array(gzip_results_df.decompressed_size)\n",
    "print(gzip_x)"
   ]
  },
  {
   "cell_type": "code",
   "execution_count": 83,
   "id": "listed-religious",
   "metadata": {},
   "outputs": [
    {
     "name": "stdout",
     "output_type": "stream",
     "text": [
      "Line: [ 3.05442131e+00  1.05000223e+08  1.05000140e+08  1.05101813e+08\n",
      "  1.10707434e+08  1.29033331e+08  1.13065477e+08  1.91163223e+08\n",
      "  2.08379487e+08 -1.06745113e+09]x + -105000222.84613381\n",
      "R^2: 0.859502285325393\n",
      "MSE: 3.9993631312305224e+16\n",
      "RMSE: 199984077.64695975\n",
      "MPE: 21648710.114336543\n"
     ]
    }
   ],
   "source": [
    "# Train sklearn model\n",
    "gzip_sklearn_model = sklearn.linear_model.LinearRegression(fit_intercept=True)\n",
    "gzip_sklearn_model.fit(gzip_x, gzip_y)\n",
    "\n",
    "gzip_y_pred = gzip_sklearn_model.predict(gzip_x)\n",
    "\n",
    "print(f\"Line: {gzip_sklearn_model.coef_}x + {gzip_sklearn_model.intercept_}\")\n",
    "print(f\"R^2: {gzip_sklearn_model.score(gzip_x, gzip_y)}\")\n",
    "print(f\"MSE: {sklearn.metrics.mean_squared_error(gzip_y, gzip_y_pred)}\")\n",
    "print(f\"RMSE: {np.sqrt(sklearn.metrics.mean_squared_error(gzip_y, gzip_y_pred))}\")\n",
    "print(f\"MPE: {MeanPositiveError(gzip_y, gzip_y_pred)}\")"
   ]
  },
  {
   "cell_type": "code",
   "execution_count": 123,
   "id": "deadly-berlin",
   "metadata": {},
   "outputs": [],
   "source": [
    "# Import decompression size .csv\n",
    "gzip_results_df = pd.read_csv(\"../data/gzip_decompression_results.csv\")\n",
    "gzip_results_df = gzip_results_df[gzip_results_df.compressed_size > 0]\n",
    "gzip_results_df = gzip_results_df[gzip_results_df.decompressed_size > 0]\n",
    "\n",
    "gzip_x = np.array(gzip_results_df.compressed_size)\n",
    "gzip_y = np.array(gzip_results_df.decompressed_size)"
   ]
  },
  {
   "cell_type": "code",
   "execution_count": 124,
   "id": "intensive-martin",
   "metadata": {},
   "outputs": [
    {
     "name": "stdout",
     "output_type": "stream",
     "text": [
      "Line: [2.74734219]x + 21742394.33076863\n",
      "R^2: 0.848886566684574\n",
      "MSE: 4.3599387444476296e+16\n",
      "RMSE: 208804663.36860463\n",
      "MPE: 25645869.28820099\n"
     ]
    }
   ],
   "source": [
    "# Train sklearn model\n",
    "gzip_sklearn_model = sklearn.linear_model.LinearRegression(fit_intercept=True)\n",
    "gzip_sklearn_model.fit(gzip_x.reshape(-1, 1), gzip_y)\n",
    "\n",
    "gzip_y_pred = gzip_sklearn_model.predict(gzip_x.reshape(-1, 1))\n",
    "\n",
    "print(f\"Line: {gzip_sklearn_model.coef_}x + {gzip_sklearn_model.intercept_}\")\n",
    "print(f\"R^2: {gzip_sklearn_model.score(gzip_x.reshape(-1, 1), gzip_y)}\")\n",
    "print(f\"MSE: {sklearn.metrics.mean_squared_error(gzip_y, gzip_y_pred)}\")\n",
    "print(f\"RMSE: {np.sqrt(sklearn.metrics.mean_squared_error(gzip_y, gzip_y_pred))}\")\n",
    "print(f\"MPE: {MeanPositiveError(gzip_y, gzip_y_pred)}\")"
   ]
  },
  {
   "cell_type": "code",
   "execution_count": 125,
   "id": "allied-control",
   "metadata": {},
   "outputs": [
    {
     "name": "stdout",
     "output_type": "stream",
     "text": [
      "Means\n",
      "74147.17277909699\n",
      "-17473621.305023972\n",
      "17249974.025042515\n",
      "Num negatives\n",
      "125.4527\n",
      "106.0\n",
      "146.0\n",
      "Medians\n",
      "19452074.502140425\n",
      "19447267.01982867\n",
      "19458174.134892076\n"
     ]
    }
   ],
   "source": [
    "import random\n",
    "gzip_error = gzip_y_pred - gzip_y\n",
    "N = 10000\n",
    "num_samples = len(error) // 2\n",
    "means = []\n",
    "num_negatives = []\n",
    "median = []\n",
    "\n",
    "for i in range(N):\n",
    "    samples = random.choices(gzip_error, k=num_samples)\n",
    "    means.append(np.mean(samples))\n",
    "    median.append(np.percentile(samples, 50))\n",
    "    num_negatives.append(len([x for x in samples if x < 0]))\n",
    "\n",
    "means.sort()\n",
    "num_negatives.sort()\n",
    "median.sort()\n",
    "\n",
    "print(\"Means\")\n",
    "print(np.mean(means))\n",
    "print(np.percentile(means, 1))\n",
    "print(np.percentile(means, 99))\n",
    "print(\"Num negatives\")\n",
    "print(np.mean(num_negatives))\n",
    "print(np.percentile(num_negatives, 2.5))\n",
    "print(np.percentile(num_negatives, 97.5))\n",
    "print(\"Medians\")\n",
    "print(np.mean(median))\n",
    "print(np.percentile(median, 2.5))\n",
    "print(np.percentile(median, 97.5))"
   ]
  },
  {
   "cell_type": "code",
   "execution_count": 311,
   "id": "broke-stream",
   "metadata": {},
   "outputs": [
    {
     "name": "stdout",
     "output_type": "stream",
     "text": [
      "[0.12551615]\n"
     ]
    },
    {
     "data": {
      "text/plain": [
       "[<matplotlib.lines.Line2D at 0x7fcc7ed6b0d0>]"
      ]
     },
     "execution_count": 311,
     "metadata": {},
     "output_type": "execute_result"
    },
    {
     "data": {
      "image/png": "[encoded data removed]",
      "text/plain": [
       "<Figure size 432x288 with 1 Axes>"
      ]
     },
     "metadata": {
      "needs_background": "light"
     },
     "output_type": "display_data"
    }
   ],
   "source": [
    "X = abs(gzip_y_pred[gzip_error < 0])\n",
    "Y = abs(gzip_error[gzip_error < 0])\n",
    "\n",
    "plt.plot(X, Y, marker=\"o\", linestyle=\"\")\n",
    "# plt.yscale(\"log\")\n",
    "# plt.xscale(\"log\")\n",
    "\n",
    "gzip_results_df = pd.read_csv(\"../data/gzip_decompression_results.csv\")\n",
    "gzip_results_df = gzip_results_df[gzip_results_df.compressed_size > 0]\n",
    "\n",
    "X = gzip_y_pred\n",
    "Y = gzip_error\n",
    "X = X[Y < 0]\n",
    "Y = Y[Y < 0]\n",
    "X = abs(X)\n",
    "Y = abs(Y)\n",
    "# X = np.log10(zip_x)\n",
    "# Y = np.log10(zip_y)\n",
    "\n",
    "plt.plot(X, Y, marker=\"o\", linestyle=\"\")\n",
    "\n",
    "# # Train sklearn model\n",
    "gzip_sklearn_model = sklearn.linear_model.LinearRegression(fit_intercept=True)\n",
    "gzip_sklearn_model.fit(X.reshape(-1,1), Y)\n",
    "\n",
    "print(gzip_sklearn_model.coef_)\n",
    "\n",
    "plt.plot(np.array([i for i in range(1, 8*10**9, 25*10**7)]), \n",
    "         gzip_sklearn_model.predict(np.array([i for i in range(1, 8*10**9, 25*10**7)]).reshape(-1, 1)))\n",
    "\n",
    "# tar_y_pred = tar_sklearn_model.predict(tar_x.reshape(-1, 1))\n",
    "\n",
    "\n",
    "# model = sklearn.linear_model.LinearRegression(fit_intercept=True)\n",
    "# model.fit(np.log10(gzip_x).reshape(-1,1), np.log10(gzip_y))\n",
    "# print(f\"Line: {model.coef_}x + {model.intercept_}\")"
   ]
  },
  {
   "cell_type": "code",
   "execution_count": 13,
   "id": "dietary-publication",
   "metadata": {},
   "outputs": [
    {
     "data": {
      "text/plain": [
       "Text(0, 0.5, 'Decompressed size (bytes)')"
      ]
     },
     "execution_count": 13,
     "metadata": {},
     "output_type": "execute_result"
    },
    {
     "data": {
      "image/png": "[encoded data removed]",
      "text/plain": [
       "<Figure size 432x288 with 1 Axes>"
      ]
     },
     "metadata": {
      "needs_background": "light"
     },
     "output_type": "display_data"
    }
   ],
   "source": [
    "# Visualize compression vs. decompression\n",
    "x1 = gzip_results_df.compressed_size\n",
    "y1 = gzip_results_df.decompressed_size\n",
    "\n",
    "# Figure 1\n",
    "for name, group in gzip_results_df.groupby(\"origin\"):\n",
    "    plt.plot(group.compressed_size, group.decompressed_size, marker=\"o\", linestyle=\"\", label=name)\n",
    "\n",
    "plt.plot(np.array([i for i in range(1, 45*10**8, 25*10**7)]), \n",
    "         gzip_sklearn_model.predict(np.array([i for i in range(1, 45*10**8, 25*10**7)]).reshape(-1, 1)), \n",
    "         label=\"Scikit\")\n",
    "\n",
    "plt.plot(np.array([i for i in range(1, 45*10**8, 25*10**7)]), \n",
    "         gzip_sklearn_model.predict(np.array([i for i in range(1, 45*10**8, 25*10**7)]).reshape(-1, 1)) + 7038058.413954257, \n",
    "         label=\"Scikit Error\")\n",
    "\n",
    "# plt.plot(np.array([i for i in range(1, 25*10**8, 25*10**7)]), \n",
    "#          zip_keras_predict(np.array([i for i in range(1, 25*10**8, 25*10**7)]).reshape(-1, 1)), \n",
    "#          label=\"Keras\")\n",
    "\n",
    "plt.legend()\n",
    "plt.title(\"Zip compressed vs. decompressed size\")\n",
    "plt.xlabel(\"Compressed size (bytes)\")\n",
    "plt.ylabel(\"Decompressed size (bytes)\")"
   ]
  },
  {
   "cell_type": "markdown",
   "id": "later-bradley",
   "metadata": {},
   "source": [
    "## Tar Predictor"
   ]
  },
  {
   "cell_type": "code",
   "execution_count": 14,
   "id": "expensive-simple",
   "metadata": {},
   "outputs": [],
   "source": [
    "# Import decompression size .csv\n",
    "tar_results_df = pd.read_csv(\"../data/tar_decompression_results.csv\")\n",
    "\n",
    "tar_x = np.array(tar_results_df.compressed_size)\n",
    "tar_y = np.array(tar_results_df.decompressed_size)"
   ]
  },
  {
   "cell_type": "code",
   "execution_count": 15,
   "id": "severe-census",
   "metadata": {},
   "outputs": [
    {
     "name": "stdout",
     "output_type": "stream",
     "text": [
      "Line: [3.1911584]x + 0.0\n",
      "R^2: 0.9762367912424945\n",
      "MSE: 6.551587325313838e+17\n",
      "RMSE: 809418762.1567614\n",
      "MPE: 55223946.37318251\n"
     ]
    }
   ],
   "source": [
    "# Train sklearn model\n",
    "tar_sklearn_model = sklearn.linear_model.LinearRegression(fit_intercept=False)\n",
    "tar_sklearn_model.fit(tar_x.reshape(-1, 1), tar_y)\n",
    "\n",
    "tar_y_pred = tar_sklearn_model.predict(tar_x.reshape(-1, 1))\n",
    "\n",
    "print(f\"Line: {tar_sklearn_model.coef_}x + {tar_sklearn_model.intercept_}\")\n",
    "print(f\"R^2: {tar_sklearn_model.score(tar_x.reshape(-1, 1), tar_y)}\")\n",
    "print(f\"MSE: {sklearn.metrics.mean_squared_error(tar_y, tar_y_pred)}\")\n",
    "print(f\"RMSE: {np.sqrt(sklearn.metrics.mean_squared_error(tar_y, tar_y_pred))}\")\n",
    "print(f\"MPE: {MeanPositiveError(tar_y, tar_y_pred)}\")"
   ]
  },
  {
   "cell_type": "code",
   "execution_count": 16,
   "id": "metric-bicycle",
   "metadata": {},
   "outputs": [
    {
     "name": "stdout",
     "output_type": "stream",
     "text": [
      "Means\n",
      "121286603.55367503\n",
      "-3742789.8592936704\n",
      "279837777.4806468\n",
      "Num negatives\n",
      "98.2423\n",
      "85.0\n",
      "111.0\n",
      "Medians\n",
      "-521387.2946276739\n",
      "-3299128.99821971\n",
      "114375.84805946633\n"
     ]
    }
   ],
   "source": [
    "import random\n",
    "tar_error = tar_y_pred - tar_y\n",
    "N = 10000\n",
    "num_samples = len(tar_error) // 2\n",
    "means = []\n",
    "num_negatives = []\n",
    "median = []\n",
    "\n",
    "for i in range(N):\n",
    "    samples = random.choices(tar_error, k=num_samples)\n",
    "    means.append(np.mean(samples))\n",
    "    median.append(np.percentile(samples, 50))\n",
    "    num_negatives.append(len([x for x in samples if x < 0]))\n",
    "\n",
    "means.sort()\n",
    "num_negatives.sort()\n",
    "median.sort()\n",
    "\n",
    "print(\"Means\")\n",
    "print(np.mean(means))\n",
    "print(np.percentile(means, 1))\n",
    "print(np.percentile(means, 99))\n",
    "print(\"Num negatives\")\n",
    "print(np.mean(num_negatives))\n",
    "print(np.percentile(num_negatives, 2.5))\n",
    "print(np.percentile(num_negatives, 97.5))\n",
    "print(\"Medians\")\n",
    "print(np.mean(median))\n",
    "print(np.percentile(median, 2.5))\n",
    "print(np.percentile(median, 97.5))"
   ]
  },
  {
   "cell_type": "code",
   "execution_count": 303,
   "id": "viral-coast",
   "metadata": {},
   "outputs": [
    {
     "name": "stdout",
     "output_type": "stream",
     "text": [
      "Line: [3.20199824]x + -124141932.93558025\n",
      "R^2: 0.9767843422534486\n",
      "MSE: 6.400625883198153e+17\n",
      "RMSE: 800039116.7435598\n",
      "MPE: 152182143.0292565\n"
     ]
    },
    {
     "data": {
      "image/png": "[encoded data removed]",
      "text/plain": [
       "<Figure size 432x288 with 1 Axes>"
      ]
     },
     "metadata": {
      "needs_background": "light"
     },
     "output_type": "display_data"
    },
    {
     "name": "stdout",
     "output_type": "stream",
     "text": [
      "[0.03512739]\n"
     ]
    },
    {
     "data": {
      "image/png": "[encoded data removed]",
      "text/plain": [
       "<Figure size 432x288 with 1 Axes>"
      ]
     },
     "metadata": {
      "needs_background": "light"
     },
     "output_type": "display_data"
    }
   ],
   "source": [
    "tar_results_df = pd.read_csv(\"../data/tar_decompression_results.csv\")\n",
    "# tar_results_df = tar_results_df[tar_results_df.compressed_size < (10 ** 10)]\n",
    "\n",
    "tar_x = np.array(tar_results_df.compressed_size)\n",
    "tar_y = np.array(tar_results_df.decompressed_size)\n",
    "\n",
    "# Train sklearn model\n",
    "tar_sklearn_model = sklearn.linear_model.LinearRegression(fit_intercept=True)\n",
    "tar_sklearn_model.fit(tar_x.reshape(-1, 1), tar_y)\n",
    "\n",
    "tar_y_pred = tar_sklearn_model.predict(tar_x.reshape(-1, 1))\n",
    "\n",
    "print(f\"Line: {tar_sklearn_model.coef_}x + {tar_sklearn_model.intercept_}\")\n",
    "print(f\"R^2: {tar_sklearn_model.score(tar_x.reshape(-1, 1), tar_y)}\")\n",
    "print(f\"MSE: {sklearn.metrics.mean_squared_error(tar_y, tar_y_pred)}\")\n",
    "print(f\"RMSE: {np.sqrt(sklearn.metrics.mean_squared_error(tar_y, tar_y_pred))}\")\n",
    "print(f\"MPE: {MeanPositiveError(tar_y, tar_y_pred)}\")\n",
    "\n",
    "tar_error = tar_y_pred - tar_y\n",
    "\n",
    "\n",
    "plt.plot(tar_y_pred, tar_error, marker=\"o\", linestyle=\"\")\n",
    "# plt.yscale(\"log\")\n",
    "# plt.xscale(\"log\")\n",
    "\n",
    "plt.show()\n",
    "\n",
    "tar_results_df = pd.read_csv(\"../data/tar_decompression_results.csv\")\n",
    "tar_results_df = tar_results_df[tar_results_df.compressed_size > 0]\n",
    "\n",
    "X = tar_y_pred\n",
    "Y = tar_error\n",
    "X = abs(X[Y < 0])\n",
    "Y = abs(Y[Y < 0])\n",
    "# X = np.log10(X)\n",
    "# Y = np.log10(Y)\n",
    "\n",
    "# Train sklearn model\n",
    "tar_sklearn_model = sklearn.linear_model.LinearRegression(fit_intercept=False)\n",
    "tar_sklearn_model.fit(X.reshape(-1,1), Y)\n",
    "\n",
    "print(tar_sklearn_model.coef_)\n",
    "\n",
    "plt.plot(X, Y, marker=\"o\", linestyle=\"\")\n",
    "\n",
    "plt.plot(np.array([i for i in range(1, 40*10**6, 5*10**5)]), \n",
    "         tar_sklearn_model.predict(np.array([i for i in range(1, 40*10**6, 5*10**5)]).reshape(-1, 1)), \n",
    "         label=\"Scikit\")\n",
    "\n",
    "plt.yscale(\"log\")\n",
    "plt.xscale(\"log\")\n",
    "\n",
    "plt.show()\n",
    "\n",
    "# Line: [1.65284959]x + 40853328.34755623"
   ]
  },
  {
   "cell_type": "code",
   "execution_count": 17,
   "id": "mineral-recall",
   "metadata": {},
   "outputs": [
    {
     "data": {
      "text/plain": [
       "Text(0, 0.5, 'Decompressed size (bytes)')"
      ]
     },
     "execution_count": 17,
     "metadata": {},
     "output_type": "execute_result"
    },
    {
     "data": {
      "image/png": "[encoded data removed]",
      "text/plain": [
       "<Figure size 432x288 with 1 Axes>"
      ]
     },
     "metadata": {
      "needs_background": "light"
     },
     "output_type": "display_data"
    }
   ],
   "source": [
    "# Visualize compression vs. decompression\n",
    "tar_results_df = tar_results_df[tar_results_df.decompressed_size < 1.5*10**9]\n",
    "\n",
    "x1 = tar_results_df.compressed_size\n",
    "y1 = tar_results_df.decompressed_size\n",
    "\n",
    "# Figure 1\n",
    "for name, group in tar_results_df.groupby(\"origin\"):\n",
    "    plt.plot(group.compressed_size, group.decompressed_size, marker=\"o\", linestyle=\"\", label=name)\n",
    "\n",
    "plt.plot(np.array([i for i in range(1, 15*10**8, 25*10**7)]), \n",
    "         tar_sklearn_model.predict(np.array([i for i in range(1, 15*10**8, 25*10**7)]).reshape(-1, 1)), \n",
    "         label=\"Scikit\")\n",
    "\n",
    "plt.plot(np.array([i for i in range(1, 15*10**8, 25*10**7)]), \n",
    "         tar_sklearn_model.predict(np.array([i for i in range(1, 15*10**8, 25*10**7)]).reshape(-1, 1)) + 595931136.9222465, \n",
    "         label=\"Scikit Error\")\n",
    "\n",
    "# plt.plot(np.array([i for i in range(1, 25*10**8, 25*10**7)]), \n",
    "#          zip_keras_predict(np.array([i for i in range(1, 25*10**8, 25*10**7)]).reshape(-1, 1)), \n",
    "#          label=\"Keras\")\n",
    "\n",
    "plt.legend()\n",
    "plt.title(\"Zip compressed vs. decompressed size\")\n",
    "plt.xlabel(\"Compressed size (bytes)\")\n",
    "plt.ylabel(\"Decompressed size (bytes)\")"
   ]
  },
  {
   "cell_type": "markdown",
   "id": "rough-upper",
   "metadata": {},
   "source": [
    "## Zip Predictor"
   ]
  },
  {
   "cell_type": "code",
   "execution_count": 320,
   "id": "bibliographic-hypothetical",
   "metadata": {},
   "outputs": [],
   "source": [
    "# Import decompression size .csv\n",
    "zip_results_df = pd.read_csv(\"../data/zip_decompression_results.csv\")\n",
    "zip_results_df = zip_results_df[zip_results_df.compressed_size > 0]\n",
    "zip_resutls_df = zip_results_df[zip_results_df.decompressed_size > 0]\n",
    "\n",
    "zip_x = np.array(zip_results_df.compressed_size)\n",
    "zip_y = np.array(zip_results_df.decompressed_size)"
   ]
  },
  {
   "cell_type": "code",
   "execution_count": 323,
   "id": "charged-edmonton",
   "metadata": {},
   "outputs": [
    {
     "name": "stdout",
     "output_type": "stream",
     "text": [
      "1699163698.3995402\n",
      "-1548694953.6004598\n",
      "Line: [5.85125935]x + 0.0\n",
      "R^2: 0.4113125630593395\n",
      "MSE: 1.3314849911372577e+18\n",
      "RMSE: 1153899905.1639001\n",
      "MPE: 109879416.00334726\n"
     ]
    }
   ],
   "source": [
    "# Train sklearn model\n",
    "zip_sklearn_model = sklearn.linear_model.LinearRegression(fit_intercept=False)\n",
    "zip_sklearn_model.fit(zip_x.reshape(-1, 1), zip_y)\n",
    "\n",
    "zip_y_pred = zip_sklearn_model.predict(zip_x.reshape(-1, 1))\n",
    "zip_error = zip_y_pred - zip_y\n",
    "\n",
    "print(zip_y_pred[0])\n",
    "print(zip_error[0])\n",
    "\n",
    "print(f\"Line: {zip_sklearn_model.coef_}x + {zip_sklearn_model.intercept_}\")\n",
    "print(f\"R^2: {zip_sklearn_model.score(zip_x.reshape(-1, 1), zip_y)}\")\n",
    "print(f\"MSE: {sklearn.metrics.mean_squared_error(zip_y, zip_y_pred)}\")\n",
    "print(f\"RMSE: {np.sqrt(sklearn.metrics.mean_squared_error(zip_y, zip_y_pred))}\")\n",
    "print(f\"MPE: {MeanPositiveError(zip_y, zip_y_pred)}\")"
   ]
  },
  {
   "cell_type": "code",
   "execution_count": 278,
   "id": "colored-radical",
   "metadata": {},
   "outputs": [
    {
     "name": "stdout",
     "output_type": "stream",
     "text": [
      "Means\n",
      "19657884.172665697\n",
      "-82090664.3447527\n",
      "100957393.57850997\n",
      "Num negatives\n",
      "245.7576\n",
      "220.0\n",
      "272.0\n",
      "Medians\n",
      "548385.5267704739\n",
      "502194.41432006215\n",
      "645485.7941079487\n"
     ]
    }
   ],
   "source": [
    "import random\n",
    "zip_error = zip_y_pred - zip_y\n",
    "N = 10000\n",
    "num_samples = len(zip_error) // 2\n",
    "means = []\n",
    "median = []\n",
    "num_negatives = []\n",
    "\n",
    "for i in range(N):\n",
    "    samples = random.choices(zip_error, k=num_samples)\n",
    "    means.append(np.mean(samples))\n",
    "    median.append(np.percentile(samples, 50))\n",
    "    num_negatives.append(len([x for x in samples if x < 0]))\n",
    "\n",
    "means.sort()\n",
    "num_negatives.sort()\n",
    "median.sort()\n",
    "\n",
    "print(\"Means\")\n",
    "print(np.mean(means))\n",
    "print(np.percentile(means, 1))\n",
    "print(np.percentile(means, 99))\n",
    "print(\"Num negatives\")\n",
    "print(np.mean(num_negatives))\n",
    "print(np.percentile(num_negatives, 2.5))\n",
    "print(np.percentile(num_negatives, 97.5))\n",
    "print(\"Medians\")\n",
    "print(np.mean(median))\n",
    "print(np.percentile(median, 2.5))\n",
    "print(np.percentile(median, 97.5))"
   ]
  },
  {
   "cell_type": "code",
   "execution_count": 279,
   "id": "quantitative-reset",
   "metadata": {},
   "outputs": [
    {
     "name": "stdout",
     "output_type": "stream",
     "text": [
      "162258830.37961394\n",
      "117075595.39381948\n",
      "211286626.4903643\n"
     ]
    }
   ],
   "source": [
    "import random\n",
    "N = 10000\n",
    "num_samples = len(zip_x) // 2\n",
    "stdev = []\n",
    "\n",
    "for i in range(N):\n",
    "    samples = random.choices(zip_x, k=num_samples)\n",
    "    stdev.append(np.std(samples))\n",
    "\n",
    "stdev.sort()\n",
    "\n",
    "print(np.percentile(stdev, 50))\n",
    "print(np.percentile(stdev, 1))\n",
    "print(np.percentile(stdev, 99))"
   ]
  },
  {
   "cell_type": "code",
   "execution_count": 325,
   "id": "bacterial-catholic",
   "metadata": {
    "scrolled": false
   },
   "outputs": [
    {
     "data": {
      "image/png": "[encoded data removed]",
      "text/plain": [
       "<Figure size 432x288 with 1 Axes>"
      ]
     },
     "metadata": {
      "needs_background": "light"
     },
     "output_type": "display_data"
    },
    {
     "name": "stdout",
     "output_type": "stream",
     "text": [
      "1699163698.3995402\n",
      "-1548694953.6004598\n",
      "[1.25709441]\n"
     ]
    },
    {
     "data": {
      "text/plain": [
       "[<matplotlib.lines.Line2D at 0x7fcc7e2a4a10>]"
      ]
     },
     "execution_count": 325,
     "metadata": {},
     "output_type": "execute_result"
    },
    {
     "data": {
      "image/png": "[encoded data removed]",
      "text/plain": [
       "<Figure size 432x288 with 1 Axes>"
      ]
     },
     "metadata": {
      "needs_background": "light"
     },
     "output_type": "display_data"
    }
   ],
   "source": [
    "plt.plot(zip_y_pred, zip_error, marker=\"o\", linestyle=\"\")\n",
    "# plt.yscale(\"log\")\n",
    "# plt.xscale(\"log\")\n",
    "\n",
    "# plt.plot(np.array([i for i in range(1, 20*10**8, 25*10**7)]), \n",
    "#          zip_sklearn_model.predict(np.array([i for i in range(1, 20*10**8, 25*10**7)]).reshape(-1, 1)), \n",
    "#          label=\"Scikit\")\n",
    "\n",
    "plt.show()\n",
    "\n",
    "# plt.yscale(\"log\")\n",
    "# plt.xscale(\"log\")\n",
    "\n",
    "zip_results_df = pd.read_csv(\"../data/zip_decompression_results.csv\")\n",
    "zip_results_df = zip_results_df[zip_results_df.compressed_size > 0]\n",
    "\n",
    "X = zip_y_pred\n",
    "Y = zip_error\n",
    "print(X[0])\n",
    "print(Y[0])\n",
    "X = X[Y < 0]\n",
    "Y = Y[Y < 0]\n",
    "\n",
    "X = abs(X)\n",
    "Y = abs(Y)\n",
    "# X = np.log10(zip_x)\n",
    "# Y = np.log10(zip_y)\n",
    "\n",
    "plt.plot(X, Y, marker=\"o\", linestyle=\"\")\n",
    "\n",
    "# # Train sklearn model\n",
    "zip_sklearn_model = sklearn.linear_model.LinearRegression(fit_intercept=True)\n",
    "zip_sklearn_model.fit(X.reshape(-1,1), Y)\n",
    "\n",
    "print(zip_sklearn_model.coef_)\n",
    "\n",
    "plt.plot(np.array([i for i in range(1, 8*10**9, 25*10**7)]), \n",
    "         zip_sklearn_model.predict(np.array([i for i in range(1, 8*10**9, 25*10**7)]).reshape(-1, 1)))\n",
    "\n",
    "# tar_y_pred = tar_sklearn_model.predict(tar_x.reshape(-1, 1))"
   ]
  },
  {
   "cell_type": "code",
   "execution_count": null,
   "id": "handy-haiti",
   "metadata": {},
   "outputs": [],
   "source": []
  }
 ],
 "metadata": {
  "kernelspec": {
   "display_name": "Python 3",
   "language": "python",
   "name": "python3"
  },
  "language_info": {
   "codemirror_mode": {
    "name": "ipython",
    "version": 3
   },
   "file_extension": ".py",
   "mimetype": "text/x-python",
   "name": "python",
   "nbconvert_exporter": "python",
   "pygments_lexer": "ipython3",
   "version": "3.7.9"
  }
 },
 "nbformat": 4,
 "nbformat_minor": 5
}
